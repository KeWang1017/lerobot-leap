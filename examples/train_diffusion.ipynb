{
 "cells": [
  {
   "cell_type": "code",
   "execution_count": null,
   "metadata": {},
   "outputs": [],
   "source": [
    "import os\n",
    "dry_run = False\n",
    "os.environ['CUDA_VISIBLE_DEVICES'] = '0'"
   ]
  },
  {
   "cell_type": "code",
   "execution_count": 2,
   "metadata": {},
   "outputs": [],
   "source": [
    "import sys\n",
    "from pdb import set_trace\n",
    "from contextlib import nullcontext\n",
    "\n",
    "from lerobot.common.datasets.lerobot_dataset import LeRobotDataset\n",
    "from lerobot.common.datasets.sampler import EpisodeAwareSampler\n",
    "from lerobot.common.datasets.factory import make_dataset\n",
    "from lerobot.common.policies.factory import make_policy\n",
    "from lerobot.common.datasets.utils import cycle\n",
    "\n",
    "from lerobot.common.policies.diffusion.configuration_diffusion import DiffusionConfig\n",
    "from lerobot.common.policies.diffusion.modeling_diffusion import DiffusionPolicy\n",
    "\n",
    "from tqdm.notebook import trange\n",
    "\n",
    "from lerobot.common.utils.utils import format_big_number\n",
    "\n",
    "import torch\n",
    "from torch.cuda.amp import GradScaler\n",
    "\n",
    "from aim import Run"
   ]
  },
  {
   "cell_type": "code",
   "execution_count": 4,
   "metadata": {},
   "outputs": [],
   "source": [
    "import hydra\n",
    "from hydra import compose, initialize\n",
    "\n",
    "hydra.core.global_hydra.GlobalHydra.instance().clear()\n",
    "initialize(config_path='../lerobot/configs/', version_base=\"1.2\")\n",
    "cfg = compose(config_name=\"default\", overrides=[\"policy=diffusion\", \"env=pusht\"])\n",
    "\n",
    "device = torch.device('cuda')"
   ]
  },
  {
   "cell_type": "code",
   "execution_count": null,
   "metadata": {},
   "outputs": [],
   "source": [
    "dataset = make_dataset(cfg)\n",
    "if cfg.training.get(\"drop_n_last_frames\"):\n",
    "    shuffle = False\n",
    "    sampler = EpisodeAwareSampler(\n",
    "        dataset.episode_data_index,\n",
    "        drop_n_last_frames=cfg.training.drop_n_last_frames,\n",
    "        shuffle=True,\n",
    "    )\n",
    "else:\n",
    "    shuffle = True\n",
    "    sampler = None\n",
    "dataloader = torch.utils.data.DataLoader(\n",
    "    dataset,\n",
    "    num_workers=cfg.training.num_workers,\n",
    "    batch_size=cfg.training.batch_size,\n",
    "    shuffle=shuffle,\n",
    "    sampler=sampler,\n",
    "    pin_memory=device.type != \"cpu\",\n",
    "    drop_last=False,\n",
    ")\n",
    "dl_iter = cycle(dataloader)"
   ]
  }
 ],
 "metadata": {
  "kernelspec": {
   "display_name": "lowcost_lerobot",
   "language": "python",
   "name": "python3"
  },
  "language_info": {
   "codemirror_mode": {
    "name": "ipython",
    "version": 3
   },
   "file_extension": ".py",
   "mimetype": "text/x-python",
   "name": "python",
   "nbconvert_exporter": "python",
   "pygments_lexer": "ipython3",
   "version": "3.10.14"
  }
 },
 "nbformat": 4,
 "nbformat_minor": 2
}
